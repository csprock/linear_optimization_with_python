{
 "cells": [
  {
   "cell_type": "markdown",
   "metadata": {},
   "source": [
    "# Introduction to Linear Optimization in Python\n",
    "\n",
    "Linear optimization (also known as linear programming) is a powerful mathematical technique used to find the best outcome in a mathematical model whose requirements are represented by linear relationships. It's a cornerstone of operations research that helps organizations make optimal decisions when faced with complex constraints and competing objectives.\n",
    "\n",
    "As a data scientist or analyst, you've likely encountered problems where you need to maximize or minimize an outcome subject to various constraints. Whether it's optimizing a supply chain, allocating resources, or planning production schedules, linear optimization provides a structured approach to finding optimal solutions.\n",
    "\n",
    "In this notebook, we'll explore how to formulate and solve linear optimization problems using Pyomo, an open-source Python-based optimization modeling language. Pyomo offers a flexible and intuitive way to express optimization problems and connects seamlessly with various solvers. \n",
    "\n",
    "The example that we will use to motivate our exploration comes from the petroleum industry. There are hundreds of different grades of crude oil in the world, each with different chemical properties. Oil refineries are configured to run using grades whose chemical properties fall within certain bounds. Often, raw crudes from different sources are not suitable for direct use in the refinery, but by blending different grades in the right ratios, a crude oil blend with suitable chemical properties can be created for use in the refinery. \n",
    "\n",
    "#### What You Will Learn\n",
    "\n",
    "* The essential parts of a linear optimization model\n",
    "* How to translate the problem statement into math and into code\n",
    "* How to use basic algebra to convert a non-linear problem into a linear one\n",
    "* How to program variables and constraints that are integers\n",
    "* How to parse the solution results\n"
   ]
  },
  {
   "cell_type": "code",
   "execution_count": null,
   "metadata": {},
   "outputs": [],
   "source": [
    "%cd /app\n",
    "\n",
    "import json\n",
    "import pyomo.environ as pyo\n",
    "import pandas as pd\n",
    "import numpy as np\n",
    "import matplotlib.pyplot as plt\n",
    "from utils.blend_indices import blend_indices\n",
    "\n",
    "solver = pyo.SolverFactory('glpk')\n",
    "\n",
    "CONSTRAINTS = dict()"
   ]
  },
  {
   "cell_type": "markdown",
   "metadata": {},
   "source": [
    "# Model Formulation \n",
    "\n",
    "Linear optimization problems have four key components: *parameters*, *variables*, *constraints* and *sets*. \n",
    "\n",
    "1. **Parameters** define fixed data in the model\n",
    "2. **Variables** are the quantities to be optimized\n",
    "3. **Constraints** define the space of possible solutions\n",
    "4. **Sets** are used to index parameters, variables and constraints\n",
    "5. **Objective Function** defines the quantity to be minimized or maximized\n",
    "\n",
    "\n",
    "## Sets\n",
    "\n",
    "Sets are used to index over parameters, variables and constraints. \n",
    "\n",
    "1. *grades* of crude (denoted $C$) and \n",
    "2. chemical *qualities* (denoted $Q$) which are different chemical properties of a grade of crude oil"
   ]
  },
  {
   "cell_type": "code",
   "execution_count": null,
   "metadata": {},
   "outputs": [],
   "source": [
    "with open(\"data/index_constraints.json\", \"r\") as f:\n",
    "    CONSTRAINTS['quality'] = json.load(f)\n",
    "\n",
    "print(\"Quality Constraints:\")\n",
    "for k, v in CONSTRAINTS['quality'].items():\n",
    "    print(f\"{k}: {[round(x,4) for x in v]}\")\n",
    "\n",
    "with open(\"data/index_assay.json\", \"r\") as f:\n",
    "    index_assay = json.load(f)"
   ]
  },
  {
   "cell_type": "code",
   "execution_count": null,
   "metadata": {},
   "outputs": [],
   "source": [
    "## Define Sets ###\n",
    "model = pyo.ConcreteModel()\n",
    "\n",
    "model.CRUDES = pyo.Set(initialize=[c for c in index_assay.keys()])\n",
    "model.QUALITIES = pyo.Set(initialize=[q for q in CONSTRAINTS['quality'].keys()])\n",
    "\n",
    "model.CRUDES.pprint()\n",
    "model.QUALITIES.pprint()"
   ]
  },
  {
   "cell_type": "markdown",
   "metadata": {},
   "source": [
    "## Variables and Parameters\n",
    "\n",
    "### Parameters\n",
    "\n",
    "The blend model has two sets of parameters, the qualities of individual crude grades and the prices of each grade. For example, each grade will have its own API gravity, sulfer content and viscosity. Each grade will also have its own price. Denote\n",
    "\n",
    "1. the value of quality $j \\in Q$ for crude $i \\in C$ as $q_{ij}$\n",
    "2. the price of crude $i \\in C$ as $p_i$\n",
    "\n",
    "The prices and qualities are fixed quantities of the model and are initialized from data. "
   ]
  },
  {
   "cell_type": "code",
   "execution_count": null,
   "metadata": {},
   "outputs": [],
   "source": [
    "# set grade prices to values between 65 and 75\n",
    "np.random.seed(1234)\n",
    "\n",
    "GRADE_PRICES = {c: np.random.uniform(low=65,high=75) for c in model.CRUDES}\n",
    "\n",
    "print(\"Grade Prices:\")\n",
    "for k, v in GRADE_PRICES.items():\n",
    "    print(f\"{k}: ${round(v,2)}\")"
   ]
  },
  {
   "cell_type": "code",
   "execution_count": null,
   "metadata": {},
   "outputs": [],
   "source": [
    "### Define Parameters ###\n",
    "def initialize_coefficients(model, crude, quality):\n",
    "    return float(index_assay[crude][quality])\n",
    "\n",
    "model.qualities = pyo.Param(model.CRUDES * model.QUALITIES, initialize=initialize_coefficients, domain=pyo.Reals)\n",
    "\n",
    "def initialize_prices(model, crude):\n",
    "    return GRADE_PRICES[crude]\n",
    "\n",
    "model.prices = pyo.Param(model.CRUDES, initialize=initialize_prices, domain=pyo.Reals)"
   ]
  },
  {
   "cell_type": "markdown",
   "metadata": {},
   "source": [
    "### Variables\n",
    "\n",
    "Let $x_i$ denote the *quantity* of crude $i \\in C$ (measured in barrels). These variables are what the model solves for. We also place constraints on the values each variable can take based on the type of problem we are solving. Since we cannot purchas a negative amount of crude, we restrict $x_i$ to be non-negative\n",
    "\n",
    "$$\n",
    "x_i \\geq 0\n",
    "$$\n",
    "\n",
    "We also allow the user to set a custom supply of each crude, denoted $U_i$. We can optionally also force the model to use a minimum amount of crude, denoted $L_i$. Together, these constraints combine to \n",
    "\n",
    "$$\n",
    "0 \\leq L_i \\leq x_i \\leq U_i \\ \\ \\ \\text{for all} \\ \\ i \\in C\n",
    "$$"
   ]
  },
  {
   "cell_type": "code",
   "execution_count": null,
   "metadata": {},
   "outputs": [],
   "source": [
    "CONSTRAINTS['supply'] = {\n",
    "    'crude_1': [0, 300000],\n",
    "    'crude_2': [0, 300000],\n",
    "    'crude_3': [0, 300000],\n",
    "    'crude_4': [0, 300000],\n",
    "    'crude_5': [0, 300000],\n",
    "    'crude_6': [0, 300000],\n",
    "    'crude_7': [0, 300000],\n",
    "    'crude_8': [0, 300000],\n",
    "    'crude_9': [0, 300000],\n",
    "    'crude_10': [0, 300000]\n",
    "}"
   ]
  },
  {
   "cell_type": "code",
   "execution_count": null,
   "metadata": {},
   "outputs": [],
   "source": [
    "def initialize_bounds(model, i):\n",
    "    return (CONSTRAINTS['supply'][i][0], CONSTRAINTS['supply'][i][1])\n",
    "\n",
    "model.x = pyo.Var(model.CRUDES, domain=pyo.NonNegativeReals, bounds=initialize_bounds)"
   ]
  },
  {
   "cell_type": "markdown",
   "metadata": {},
   "source": [
    "## Constraints\n",
    "\n",
    "Constraints are imposed on the set of possible solutions in order to meet business criteria. The first step in creating the constraints is to state the business objects in words and then translate those into mathematical formulas. Our blend model must meet the following business objectives: \n",
    "\n",
    "1. the total amount of blended crude must be no greater than the tank capacity\n",
    "2. we want to know the per barrel profit *and loss* from blending\n",
    "3. the blended grade must meet the required quality specifications\n",
    "4. in practice there must never be more than three grades in a single blend\n",
    "\n",
    "### 1. Tank Capacity Constraint\n",
    "\n",
    "The amount of blended crude cannot exceed the tank capacity $T$. Since the total volume of the blend is simply the sum of the component volumes, this constraint can be expressed as \n",
    "\n",
    "$$\n",
    "\\sum_{i \\in C} x_i \\leq T\n",
    "$$\n",
    "\n",
    "### 2. Computing the Profit (or Loss) from Blending\n",
    "\n",
    "We are interested in the profit on the optimal blend, *even if the profit is negative (a loss)*. This is important for seeing how close conditions are to making blending profitable. Recall that we imposed the constraint that $x_i \\geq 0$. If there is no profitable blend, the model will set $x_i = 0$ for all $i$ unless we impose the constraint that the model is required to blend a non-zero amount of crude. The constaint amounts to setting a lower bound on the total blended volume. The number can be an arbitrary positive number but in this example we set it to be 1 because it will make calculation of the the per-barrel loss easy when there is exactly one barrel in the blend. \n",
    "\n",
    "$$\n",
    "\\sum_{i \\in C} x_i > 1\n",
    "$$\n",
    "\n",
    "The combined constraint is"
   ]
  },
  {
   "cell_type": "code",
   "execution_count": null,
   "metadata": {},
   "outputs": [],
   "source": [
    "CONSTRAINTS['total'] = 500000"
   ]
  },
  {
   "cell_type": "code",
   "execution_count": null,
   "metadata": {},
   "outputs": [],
   "source": [
    "## total constraint \n",
    "\n",
    "def total_barrel_constraint(model):\n",
    "    min_ = 10.0\n",
    "    return (min_, sum(model.x[i] for i in model.CRUDES), CONSTRAINTS['total'])\n",
    "\n",
    "model.total_barrel_constraint = pyo.Constraint(rule=total_barrel_constraint)"
   ]
  },
  {
   "cell_type": "markdown",
   "metadata": {},
   "source": [
    "### 3. Quality Constraints\n",
    "\n",
    "We assume that all qualities blend linearly, or that they have been converted to blend indices which do. A quality blends linearly if it can expressed as a weighted average. Let $L_j$ and $U_j$ be the upper and lower bounds on the $j$-th quality constraint and let $q_{ij}$ be the $j$-th quality of the $i$-th crude.\n",
    "\n",
    "#### Volume-Based Qualities\n",
    "Most of the quality constraints are *volume-based* so that the weights iin the weighted average are expressed as a fraction of the total volume in the blend (measured in barrels). \n",
    "\n",
    "$$\n",
    "L_j \\leq \\sum_{i \\in C} \\frac{q_{ij} x_i}{\\sum_{i\\in C} x_i} \\leq U_j\n",
    "$$\n",
    "\n",
    "\n",
    "#### Weight-Based Qualities\n",
    "\n",
    "Some of the qualities are blended on a *weight-basis* rather than a volume basis. Therefore, the volume of the crude needs to be converted to a weight by multiplying by the *specific gravity* of the grade. \n",
    "\n",
    "$$\n",
    "L_j \\leq \\sum_{i \\in C} \\frac{q_{ij} (s_i x_i)}{\\sum_{i\\in C} s_i x_i} \\leq U_j\n",
    "$$\n",
    "\n",
    "#### Linearizing The Ratio Constraints\n",
    "\n",
    "The numerators and denominators of the above constraints are both linear, however their ratio is not. We can use a non-linear solver to solve the problem with the current constraints, however nonlinear problems are more complex and subject to issues such as local optimiums and numerical instability. The alternative is to reformulate these constraints to make them linear. \n",
    "\n",
    "For example, to linearize the upper bound of the a volume-based constraint, we can use some simple algebra to rearrange the terms\n",
    "\n",
    "$$\n",
    "\\begin{align*}\n",
    "\n",
    "\\sum_{i \\in C} \\frac{q_{ij}x_i}{\\sum_{i \\in C}x_i} &\\leq U_j \\\\ \n",
    "\\sum_{i \\in C} q_{ij}x_i &\\leq U_j \\sum_{x\\in C} x_i \\\\\n",
    "\\sum_{i \\in C} q_{ij} x_i - U_j \\sum_{x \\in C} x_i &\\leq 0 \\\\\n",
    "\\sum_{i \\in C} (q_{ij} - U_j)x_i &\\leq 0\n",
    "\\end{align*}\n",
    "$$\n",
    "\n",
    "which is linear. Similarly, the lower bounds can be expressed as \n",
    "\n",
    "$$\n",
    "\\sum_{i \\in C} (q_{ij} - L_j)x_i \\geq 0\n",
    "$$"
   ]
  },
  {
   "cell_type": "code",
   "execution_count": null,
   "metadata": {},
   "outputs": [],
   "source": [
    "_volume_constraints = ['rvp_idx', 'sg', 'pour_idx']\n",
    "def quality_constraint_upper_bound(model, q):\n",
    "    if q in _volume_constraints:\n",
    "        return sum(model.x[c] * (model.qualities[c, q] - CONSTRAINTS['quality'][q][1]) for c in model.CRUDES) <= 0\n",
    "    else:\n",
    "        return sum(model.qualities[c, \"sg\"] * model.x[c] * (model.qualities[c, q] - CONSTRAINTS['quality'][q][1]) for c in model.CRUDES) <= 0\n",
    "    \n",
    "def quality_constraint_lower_bound(model, q):\n",
    "    if q in _volume_constraints:\n",
    "        return sum(model.x[c] * (model.qualities[c, q] - CONSTRAINTS['quality'][q][0]) for c in model.CRUDES) >= 0\n",
    "    else:\n",
    "        return sum(model.qualities[c, \"sg\"] * model.x[c] * (model.qualities[c, q] - CONSTRAINTS['quality'][q][0]) for c in model.CRUDES) >= 0\n",
    "    \n",
    "model.quality_constraint_ub = pyo.Constraint(model.QUALITIES, rule=quality_constraint_upper_bound)\n",
    "model.quality_constraint_lb = pyo.Constraint(model.QUALITIES, rule=quality_constraint_lower_bound)"
   ]
  },
  {
   "cell_type": "markdown",
   "metadata": {},
   "source": [
    "### 4. Constraints on the Number of Blend Components\n",
    "\n",
    "In practice, there are rarely more than three components in a blend. In order to formulate a constraint that accomplishes this, we introduce binary indicator variables for each crude $\\delta_i \\in \\{0, 1\\}$ that indicate if that is included in the blend. \n",
    "\n",
    "$$\n",
    "\\delta_i = \n",
    "\\begin{cases} \n",
    "1 & \\text{if crude } i \\text{ is included in the blend } (x_i > 0) \\\\\n",
    "0 & \\text{otherwise } (x_i = 0)\n",
    "\\end{cases}\n",
    "$$\n",
    "\n",
    "The constraint on the number of blend components can be expressed as:\n",
    "\n",
    "$$\n",
    "\\sum_{i \\in C} \\delta_i \\leq M\n",
    "$$\n",
    "\n",
    "where $M$ is the maximum number of crudes allowed in the blend (in our case, $M=3$).\n"
   ]
  },
  {
   "cell_type": "code",
   "execution_count": null,
   "metadata": {},
   "outputs": [],
   "source": [
    "model.xi = pyo.Var(model.CRUDES, domain=pyo.Binary)\n",
    "\n",
    "def max_crudes_constraint(model):\n",
    "    return sum(model.xi[c] for c in model.CRUDES) <= 3\n",
    "\n",
    "model.max_crudes_constraint = pyo.Constraint(rule=max_crudes_constraint)"
   ]
  },
  {
   "cell_type": "markdown",
   "metadata": {},
   "source": [
    "In order to connect these binary variables to the volume variables $x_i$, we must introduce constraints that force $x_i = 0$ when $\\delta_i =0$. To do this, we introduce the follwing constraints\n",
    "\n",
    "$$\n",
    "x_i - \\delta_i U_i \\leq 0\n",
    "$$\n",
    "\n",
    "To see how these constraints work, recall that $U_i > 0$ is the upper limit on the available supply of crude $i$. Also recall that $x_i \\geq 0$ since we cannot have negative volumes. Together these imply that if $\\delta_i = 0$, then we must have \n",
    "\n",
    "$$\n",
    "\\begin{align*}\n",
    "\n",
    "x_i - (0)U_i \\leq 0 &\\Longrightarrow \\\\ x_i \\leq 0 &\\Longrightarrow x_i = 0\n",
    "\n",
    "\\end{align*}\n",
    "$$\n",
    "\n",
    "Conversely, if $x_i = 0$, then we must have \n",
    "\n",
    "$$\n",
    "\\begin{align*}\n",
    "\n",
    "(0) - \\delta_i U_i \\leq 0 &\\Longrightarrow \\\\ -\\delta_i U_i \\leq 0 &\\Longrightarrow \\\\ \\delta_i = 0 \n",
    "\n",
    "\\end{align*}\n",
    "$$\n",
    "\n",
    "Therefore, $\\delta_i = 0$ if and only if $x_i = 0$. "
   ]
  },
  {
   "cell_type": "code",
   "execution_count": null,
   "metadata": {},
   "outputs": [],
   "source": [
    "def binary_constraint(model, c):\n",
    "    return model.x[c] - CONSTRAINTS['supply'][c][1] * model.xi[c] <= 0\n",
    "\n",
    "model.binary_constraint = pyo.Constraint(model.CRUDES, rule=binary_constraint)"
   ]
  },
  {
   "cell_type": "markdown",
   "metadata": {},
   "source": [
    "## The Objective Function\n",
    "\n",
    "Our objective is to maximize profit, which is the difference between the price of a barrel of the blended crude and the cost of acquiring the individual blend grades.\n",
    "\n",
    "$$\n",
    "\\max_{x_i} \\Big\\{ \\sum_{i \\in C} (p_{blend} - p_i) x_i \\Big\\}\n",
    "$$"
   ]
  },
  {
   "cell_type": "code",
   "execution_count": null,
   "metadata": {},
   "outputs": [],
   "source": [
    "BLEND_GRADE_PRICE = 50"
   ]
  },
  {
   "cell_type": "code",
   "execution_count": null,
   "metadata": {},
   "outputs": [],
   "source": [
    "def profit_maximization(model):\n",
    "    return sum((BLEND_GRADE_PRICE - model.prices[c]) * model.x[c] for c in model.CRUDES)\n",
    "\n",
    "model.profit = pyo.Objective(rule=profit_maximization, sense=pyo.maximize)"
   ]
  },
  {
   "cell_type": "markdown",
   "metadata": {},
   "source": [
    "## Solving the Model"
   ]
  },
  {
   "cell_type": "code",
   "execution_count": null,
   "metadata": {},
   "outputs": [],
   "source": [
    "# some helper functions\n",
    "\n",
    "def get_selected_grades(model_instance):\n",
    "    \"\"\"\n",
    "    Return the subset of grades selected by the model.\n",
    "    \"\"\"\n",
    "    return [c for c in model_instance.CRUDES if model_instance.xi[c].value == 1]\n",
    "\n",
    "\n",
    "def get_amounts(model_instance):\n",
    "    \"\"\"\n",
    "    Return the amount of each grade selected by the model.\n",
    "    \"\"\"\n",
    "\n",
    "    amounts = {}\n",
    "    total = 0\n",
    "    for c in model_instance.CRUDES:\n",
    "        v = pyo.value(model_instance.x[c])\n",
    "        amounts[c] = v\n",
    "        total += v\n",
    "\n",
    "    amounts['total'] = total\n",
    "    return amounts\n",
    "\n",
    "\n",
    "def get_profit(model_instance):\n",
    "    \"\"\"\n",
    "    Return the profit of the selected grades.\n",
    "    \"\"\"\n",
    "    amounts = get_amounts(model_instance)\n",
    "    total = amounts['total']\n",
    "    profit = pyo.value(model_instance.profit)\n",
    "    profit_per_barrel = profit / total\n",
    "    return {'profit': profit, 'profit_per_barrel': profit_per_barrel}\n",
    "\n",
    "\n",
    "def get_ratios(model_instance):\n",
    "    \"\"\"\n",
    "    Return the ratios of the selected grades.\n",
    "    \"\"\"\n",
    "    amounts = get_amounts(model_instance)\n",
    "    total = amounts['total']\n",
    "    ratios = {c: v / total for c, v in amounts.items() if c != 'total'}\n",
    "    return ratios\n",
    "\n",
    "def get_blend_quality(model_instance):\n",
    "\n",
    "    constraint_values = dict()\n",
    "\n",
    "    total_volume = sum(pyo.value(model_instance.x[c]) for c in model_instance.CRUDES)\n",
    "    total_weight = sum(pyo.value(model_instance.qualities[c, 'sg']) * pyo.value(model_instance.x[c]) for c in model_instance.CRUDES)\n",
    "\n",
    "    for q in model_instance.QUALITIES:\n",
    "        # volume-based quantities\n",
    "        if q in ['rvp_idx', 'sg', 'pour_idx']:\n",
    "            num = sum(pyo.value(model_instance.x[c]) * (pyo.value(model_instance.qualities[c, q])) for c in model_instance.CRUDES)\n",
    "            value = num / total_volume\n",
    "        else:\n",
    "            num = sum(pyo.value(model_instance.qualities[c, 'sg']) * pyo.value(model_instance.x[c]) * pyo.value(model_instance.qualities[c, q]) for c in model_instance.CRUDES)\n",
    "            value = num / total_weight\n",
    "        \n",
    "        lower_bound = CONSTRAINTS['quality'][q][0]\n",
    "        upper_bound = CONSTRAINTS['quality'][q][1]\n",
    "\n",
    "\n",
    "        constraint_values[q] = {\n",
    "            'blend_value': value,\n",
    "            'lower_bound': lower_bound,\n",
    "            'upper_bound': upper_bound\n",
    "        }\n",
    "\n",
    "    return constraint_values"
   ]
  },
  {
   "cell_type": "code",
   "execution_count": null,
   "metadata": {},
   "outputs": [],
   "source": [
    "model_instance = model.create_instance()\n",
    "results = solver.solve(model_instance, tee=False)"
   ]
  },
  {
   "cell_type": "code",
   "execution_count": null,
   "metadata": {},
   "outputs": [],
   "source": [
    "selected_grades = get_selected_grades(model_instance)\n",
    "selected_grades"
   ]
  },
  {
   "cell_type": "code",
   "execution_count": null,
   "metadata": {},
   "outputs": [],
   "source": [
    "amounts = get_amounts(model_instance)\n",
    "ratios = get_ratios(model_instance)\n",
    "\n",
    "for c in selected_grades:\n",
    "    # format ratios at percentages\n",
    "    print(f\"{c}: {round(amounts[c],2)} barrels - {round(100*ratios[c],2)}%\")"
   ]
  },
  {
   "cell_type": "code",
   "execution_count": null,
   "metadata": {},
   "outputs": [],
   "source": [
    "profit_amounts = get_profit(model_instance)\n",
    "\n",
    "# Format profit amounts as dollar amounts with commas\n",
    "total_profit = f\"${profit_amounts['profit']:,.2f}\"\n",
    "profit_per_barrel = f\"${profit_amounts['profit_per_barrel']:.2f}\"\n",
    "\n",
    "print(f\"Total profit: {total_profit}\")\n",
    "print(f\"Profit per barrel: {profit_per_barrel}\")"
   ]
  },
  {
   "cell_type": "code",
   "execution_count": null,
   "metadata": {},
   "outputs": [],
   "source": [
    "blend_qualities = get_blend_quality(model_instance)\n",
    "\n",
    "print(\"Blend Qualities:\")\n",
    "for k, v in blend_qualities.items():\n",
    "    print(f\"{k}: [{v['lower_bound']}, {round(v['blend_value'],4)}, {v['upper_bound']}]\")"
   ]
  },
  {
   "cell_type": "markdown",
   "metadata": {},
   "source": [
    "## References \n",
    "\n",
    "If you want to check out the docker image that contains all the optimizers, see this [Dockerfile](https://github.com/csprock/dockerfiles/blob/master/Dockerfile-python-opt). "
   ]
  }
 ],
 "metadata": {
  "language_info": {
   "name": "python",
   "pygments_lexer": "ipython3"
  }
 },
 "nbformat": 4,
 "nbformat_minor": 2
}
