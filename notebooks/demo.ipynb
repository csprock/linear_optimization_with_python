{
 "cells": [
  {
   "cell_type": "markdown",
   "metadata": {},
   "source": [
    "# Introduction to Linear Optimization in Python\n",
    "\n",
    "Linear optimization (also known as linear programming) is a powerful mathematical technique used to find the best outcome in a mathematical model whose requirements are represented by linear relationships. It's a cornerstone of operations research that helps organizations make optimal decisions when faced with complex constraints and competing objectives.\n",
    "\n",
    "As a data scientist or analyst, you've likely encountered problems where you need to maximize or minimize an outcome subject to various constraints. Whether it's optimizing a supply chain, allocating resources, or planning production schedules, linear optimization provides a structured approach to finding optimal solutions.\n",
    "\n",
    "In this notebook, we'll explore how to formulate and solve linear optimization problems using Pyomo, an open-source Python-based optimization modeling language. Pyomo offers a flexible and intuitive way to express optimization problems and connects seamlessly with various solvers. \n",
    "\n",
    "The example that we will use to motivate our exploration comes from the petroleum industry. There are hundreds of different grades of crude oil in the world, each with different chemical properties. Oil refineries are configured to run using grades whose chemical properties fall within certain bounds. Often, raw crudes from different sources are not suitable for direct use in the refinery, but by blending different grades in the right ratios, a crude oil blend with suitable chemical properties can be created for use in the refinery. \n",
    "\n",
    "#### What You Will Learn\n",
    "\n",
    "* The essential parts of a linear optimization model\n",
    "* How to translate the problem statement into math and into code\n",
    "* How to use basic algebra to convert a non-linear problem into a linear one\n",
    "* How to program variables and constraints that are integers\n",
    "* How to parse the solution results\n"
   ]
  },
  {
   "cell_type": "code",
   "execution_count": null,
   "metadata": {},
   "outputs": [],
   "source": [
    "%cd /app\n",
    "\n",
    "import json\n",
    "import pyomo.environ as pyo\n",
    "import pandas as pd\n",
    "import numpy as np\n",
    "from utils.blend_indices import blend_indices\n",
    "\n",
    "solver = pyo.SolverFactory('glpk')"
   ]
  },
  {
   "cell_type": "code",
   "execution_count": null,
   "metadata": {},
   "outputs": [],
   "source": [
    "with open(\"data/assay.json\") as f:\n",
    "    assay = json.load(f)\n",
    "\n",
    "CONSTRAINTS = {\n",
    "    \"ibp220\": [0.0, 19.8],\n",
    "    \"htsd50\": [470, 570],\n",
    "    \"1020plus\": [0, 16],\n",
    "    \"v\": [0,15],\n",
    "    \"ni\": [0.0, 8.0],\n",
    "    \"neut\": [0.0, 0.28],\n",
    "    \"mcrt\": [0.0, 2.4],\n",
    "    \"vis100f\": [0.21, 60], # set to be 0.2 + e, e>0\n",
    "    \"rvp\": [0.0, 9.5],\n",
    "    \"api\": [37, 42],\n",
    "    \"sulf\":[0.0, 0.4185],\n",
    "    \"pour\": [-50,50]\n",
    "}\n",
    "\n",
    "SUPPLY = {\n",
    "    'crude_1': [0, 300000],\n",
    "    'crude_2': [0, 300000],\n",
    "    'crude_3': [0, 300000],\n",
    "    'crude_4': [0, 300000],\n",
    "    'crude_5': [0, 300000],\n",
    "    'crude_6': [0, 300000],\n",
    "    'crude_7': [0, 300000],\n",
    "    'crude_8': [0, 300000],\n",
    "    'crude_9': [0, 300000],\n",
    "    'crude_10': [0, 300000]\n",
    "}\n",
    "\n",
    "TOTAL = 500000\n",
    "MAX_CRUDES = 3\n",
    "\n",
    "\n",
    "\n",
    "index_constraints = {}\n",
    "\n",
    "for q, r in CONSTRAINTS.items():\n",
    "    if q in blend_indices:\n",
    "\n",
    "        q_idx = blend_indices[q]['index_name']\n",
    "        func = blend_indices[q]['func']\n",
    "\n",
    "        if q == \"api\":\n",
    "            index_constraints[q_idx] = [func(r[1]), func(r[0])]\n",
    "        else:\n",
    "            index_constraints[q_idx] = [func(r[0]), func(r[1])]\n",
    "    else:\n",
    "        index_constraints[q] = r\n",
    "\n",
    "\n",
    "index_assay = {}\n",
    "\n",
    "for crude, quality_dict in assay.items():\n",
    "    index_assay[crude] = {}\n",
    "    for q, v in quality_dict.items():\n",
    "        if q in blend_indices:\n",
    "            q_idx = blend_indices[q]['index_name']\n",
    "            func = blend_indices[q]['func']\n",
    "\n",
    "            index_assay[crude][q_idx] = func(v)\n",
    "        else:\n",
    "            index_assay[crude][q] = v\n",
    "\n",
    "\n",
    "\n",
    "constraints = {\n",
    "    'quality': index_constraints,\n",
    "    'supply': SUPPLY,\n",
    "    'total': TOTAL,\n",
    "    'max_crudes': MAX_CRUDES\n",
    "}\n",
    "\n",
    "\n",
    "prices = {}\n",
    "for c, p in zip(assay.keys(), np.random.uniform(low=65,high=75, size=10)):\n",
    "    prices[c] = p\n"
   ]
  },
  {
   "cell_type": "markdown",
   "metadata": {},
   "source": [
    "# Model Formulation \n",
    "\n",
    "Linear optimization problems have four key components: *parameters*, *variables*, *constraints* and *sets*. \n",
    "\n",
    "1. **Parameters** define fixed data in the model\n",
    "2. **Variables** are the quantities to be optimized\n",
    "3. **Constraints** define the space of possible solutions\n",
    "4. **Sets** are used to index parameters, variables and constraints\n",
    "5. **Objective Function** is used to define the \n",
    "\n",
    "\n",
    "## Sets\n",
    "\n",
    "Sets are used to index over parameters, variables and constraints. \n",
    "\n",
    "1. *grades* of crude (denoted $C$) and \n",
    "2. chemical *qualities* (denoted $Q$) which are different chemical properties of a grade of crude oil"
   ]
  },
  {
   "cell_type": "code",
   "execution_count": null,
   "metadata": {},
   "outputs": [],
   "source": [
    "## Define Sets ###\n",
    "model = pyo.ConcreteModel()\n",
    "\n",
    "model.CRUDES = pyo.Set(initialize=[c for c in index_assay.keys()])\n",
    "model.QUALITIES = pyo.Set(initialize=[q for q in constraints['quality'].keys()])\n",
    "\n",
    "model.CRUDES.pprint()\n",
    "model.QUALITIES.pprint()"
   ]
  },
  {
   "cell_type": "markdown",
   "metadata": {},
   "source": [
    "## Variables and Parameters\n",
    "\n",
    "### Parameters\n",
    "\n",
    "The blend model has two sets of parameters, the qualities of individual crude grades and the prices of each grade. For example, each grade will have its own API gravity, sulfer content and viscosity. Each grade will also have its own price. Denote\n",
    "\n",
    "1. the value of quality $j \\in Q$ for crude $i \\in C$ as $q_{ij}$\n",
    "2. the price of crude $i \\in C$ as $p_i$\n",
    "\n",
    "The prices and qualities are fixed quantities of the model and are initialized from data. "
   ]
  },
  {
   "cell_type": "code",
   "execution_count": null,
   "metadata": {},
   "outputs": [],
   "source": [
    "### Define Parameters ###\n",
    "def initialize_coefficients(model, crude, quality):\n",
    "    return float(index_assay[crude][quality])\n",
    "\n",
    "model.qualities = pyo.Param(model.CRUDES * model.QUALITIES, initialize=initialize_coefficients, domain=pyo.Reals)\n",
    "\n",
    "def initialize_prices(model, crude):\n",
    "    return prices[crude]\n",
    "\n",
    "model.prices = pyo.Param(model.CRUDES, initialize=initialize_prices, domain=pyo.Reals)"
   ]
  },
  {
   "cell_type": "markdown",
   "metadata": {},
   "source": [
    "### Variables\n",
    "\n",
    "Let $x_i$ denote the *quantity* of crude $i \\in C$ (measured in barrels). These variables are what the model solves for. We also place constraints on the values each variable can take based on the type of problem we are solving. Since we cannot purchas a negative amount of crude, we restrict $x_i$ to be non-negative\n",
    "\n",
    "$$\n",
    "x_i \\geq 0\n",
    "$$\n",
    "\n",
    "We also allow the user to set a custom supply of each crude, denoted $U_i$. We can optionally also force the model to use a minimum amount of crude, denoted $L_i$. Together, these constraints combine to \n",
    "\n",
    "$$\n",
    "0 \\leq L_i \\leq x_i \\leq U_i \\ \\ \\ \\text{for all} \\ \\ i \\in C\n",
    "$$"
   ]
  },
  {
   "cell_type": "code",
   "execution_count": null,
   "metadata": {},
   "outputs": [],
   "source": [
    "def initialize_bounds(model, i):\n",
    "    return (constraints['supply'][i][0], constraints['supply'][i][1])\n",
    "\n",
    "model.x = pyo.Var(model.CRUDES, domain=pyo.NonNegativeReals, bounds=initialize_bounds)"
   ]
  },
  {
   "cell_type": "markdown",
   "metadata": {},
   "source": [
    "## Constraints\n",
    "\n",
    "Constraints are imposed on the set of possible solutions in order to meet business criteria. The first step in creating the constraints is to state the business objects in words and then translate those into mathematical formulas. Our blend model must meet the following business objectives: \n",
    "\n",
    "1. the total amount of blended crude must be no greater than the tank capacity\n",
    "2. we want to know the per barrel profit *and loss* from blending\n",
    "3. the blended grade must meet the required quality specifications\n",
    "4. in practice there must never be more than three grades in a single blend\n",
    "\n",
    "### 1. Tank Capacity Constraint\n",
    "\n",
    "The amount of blended crude cannot exceed the tank capacity $T$. Since the total volume of the blend is simply the sum of the component volumes, this constraint can be expressed as \n",
    "\n",
    "$$\n",
    "\\sum_{i \\in C} x_i \\leq T\n",
    "$$\n",
    "\n",
    "### 2. Computing the Profit (or Loss) from Blending\n",
    "\n",
    "We are interested in the profit on the optimal blend, *even if the profit is negative (a loss)*. This is important for seeing how close conditions are to making blending profitable. Recall that we imposed the constraint that $x_i \\geq 0$. If there is no profitable blend, the model will set $x_i = 0$ for all $i$ unless we impose the constraint that the model is required to blend a non-zero amount of crude. The constaint amounts to setting a lower bound on the total blended volume. The number can be an arbitrary positive number but in this example we set it to be 1 because it will make calculation of the the per-barrel loss easy when there is exactly one barrel in the blend. \n",
    "\n",
    "$$\n",
    "\\sum_{i \\in C} x_i > 1\n",
    "$$\n",
    "\n",
    "The combined constraint is"
   ]
  },
  {
   "cell_type": "code",
   "execution_count": null,
   "metadata": {},
   "outputs": [],
   "source": [
    "## total constraint \n",
    "\n",
    "def total_barrel_constraint(model):\n",
    "    min_ = 1.0\n",
    "    return (min_, sum(model.x[i] for i in model.CRUDES), constraints['total'])\n",
    "\n",
    "model.total_barrel_constraint = pyo.Constraint(rule=total_barrel_constraint)"
   ]
  },
  {
   "cell_type": "markdown",
   "metadata": {},
   "source": [
    "### 3. Quality Constraints\n",
    "\n",
    "We assume that all qualities blend linearly, or that they have been converted to blend indices which do. A quality blends linearly if it can expressed as a weighted average. Let $L_j$ and $U_j$ be the upper and lower bounds on the $j$-th quality constraint and let $q_{ij}$ be the $j$-th quality of the $i$-th crude.\n",
    "\n",
    "#### Volume-Based Qualities\n",
    "Most of the \n",
    "\n",
    "\n",
    "#### Weight-Based Qualities"
   ]
  },
  {
   "cell_type": "code",
   "execution_count": null,
   "metadata": {},
   "outputs": [],
   "source": [
    "_volume_constraints = ['rvp_idx', 'sg', 'pour_idx']\n",
    "def quality_constraint_upper_bound(model, q):\n",
    "    if q in _volume_constraints:\n",
    "        return sum(model.x[c] * (model.qualities[c, q] - constraints['quality'][q][1]) for c in model.CRUDES) <= 0\n",
    "    else:\n",
    "        return sum(model.qualities[c, \"sg\"] * model.x[c] * (model.qualities[c, q] - constraints['quality'][q][1]) for c in model.CRUDES) <= 0\n",
    "    \n",
    "def quality_constraint_lower_bound(model, q):\n",
    "    if q in _volume_constraints:\n",
    "        return sum(model.x[c] * (model.q[c, q] - constraints['quality'][q][0]) for c in model.CRUDES) >= 0\n",
    "    else:\n",
    "        return sum(model.qualities[c, \"sg\"] * model.x[c] * (model.qualities[c, q] - constraints['quality'][q][0]) for c in model.CRUDES) >= 0\n",
    "    \n",
    "model.quality_constraint_ub = pyo.Constraint(model.QUALITIES, rule=quality_constraint_upper_bound)\n",
    "model.quality_constraint_lb = pyo.Constraint(model.QUALITIES, rule=quality_constraint_lower_bound)"
   ]
  },
  {
   "cell_type": "code",
   "execution_count": null,
   "metadata": {},
   "outputs": [],
   "source": [
    "model.xi = pyo.Var(model.CRUDES, domain=pyo.Binary)\n",
    "\n",
    "def max_crudes_constraint(model, n_max):\n",
    "    return sum(model.xi[c] for c in model.CRUDES) <= n_max\n",
    "\n",
    "model.max_crudes_constraint = pyo.Constraint(rule=max_crudes_constraint)"
   ]
  },
  {
   "cell_type": "code",
   "execution_count": null,
   "metadata": {},
   "outputs": [],
   "source": [
    "def binary_constraint(model, c):\n",
    "    return model.x[c] - constraints['supply'][c][1] * model.xi[c] <= 0\n",
    "\n",
    "model.binary_constraint = pyo.Constraint(model.CRUDES, rule=binary_constraint)"
   ]
  },
  {
   "cell_type": "code",
   "execution_count": null,
   "metadata": {},
   "outputs": [],
   "source": [
    "def profit_maximization(model):\n",
    "    return sum(model.prices[c] * model.x[c] for c in model.CRUDES)\n",
    "\n",
    "model.objective = pyo.Objective(rule=profit_maximization, sense=pyo.maximize)"
   ]
  }
 ],
 "metadata": {
  "language_info": {
   "name": "python",
   "pygments_lexer": "ipython3"
  }
 },
 "nbformat": 4,
 "nbformat_minor": 2
}
